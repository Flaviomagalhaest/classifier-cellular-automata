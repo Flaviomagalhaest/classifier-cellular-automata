{
 "cells": [
  {
   "cell_type": "code",
   "execution_count": null,
   "metadata": {},
   "outputs": [],
   "source": [
    "import yaml\n",
    "from sklearn.metrics import classification_report\n",
    "\n",
    "from app.pool_classifiers import get_all_classifiers\n",
    "from src.cca import learning_algorithm\n",
    "from src.dataset import Dataset\n",
    "from src.elements import Matrix, Pool\n",
    "from src.helpers import dict_results_to_dataframe"
   ]
  },
  {
   "cell_type": "code",
   "execution_count": null,
   "metadata": {},
   "outputs": [],
   "source": [
    "with open(\"src/cca_config.yaml\", \"r\") as f:\n",
    "    config = yaml.load(f, Loader=yaml.FullLoader)"
   ]
  },
  {
   "cell_type": "code",
   "execution_count": null,
   "metadata": {},
   "outputs": [],
   "source": [
    "all_classifiers = get_all_classifiers()\n",
    "dataset = Dataset(\n",
    "    name=config[\"dataset\"][\"name\"],\n",
    "    train_clf_amount=config[\"dataset\"][\"train_amount\"],\n",
    "    train_cca_amount=config[\"dataset\"][\"train_amount\"],\n",
    "    test_amount=config[\"dataset\"][\"test_amount\"],\n",
    ")\n",
    "x_train_clf, y_train_clf = dataset.get_train_clf_samples()\n",
    "x_train_cca, y_train_cca = dataset.get_train_cca_samples()\n",
    "x_test, y_test = dataset.get_test_samples()\n",
    "\n",
    "#BALANCE OF SAMPLES\n",
    "from src.helpers import count_items_from_predict\n",
    "\n",
    "#Classes data train classifiers\n",
    "y_train_clf_0 = count_items_from_predict(y_train_clf, 0)/len(y_train_clf)\n",
    "y_train_clf_1 = count_items_from_predict(y_train_clf, 1)/len(y_train_clf)\n",
    "print((y_train_clf_0, y_train_clf_1))\n",
    "\n",
    "#Classes data train classifiers\n",
    "y_train_cca_0 = count_items_from_predict(y_train_cca, 0)/len(y_train_cca)\n",
    "y_train_cca_1 = count_items_from_predict(y_train_cca, 1)/len(y_train_cca)\n",
    "print((y_train_cca_0, y_train_cca_1))\n",
    "\n",
    "#Classes data train classifiers\n",
    "y_test_0 = count_items_from_predict(y_test, 0)/len(y_test)\n",
    "y_test_1 = count_items_from_predict(y_test, 1)/len(y_test)\n",
    "print((y_test_0, y_test_1))"
   ]
  },
  {
   "cell_type": "code",
   "execution_count": null,
   "metadata": {},
   "outputs": [],
   "source": [
    "pool = Pool(all_classifiers)\n",
    "pool.fit_all(x_train_clf, y_train_clf)\n",
    "pool.test_all(x_test, y_test)\n",
    "pool.remove_classifier_one_class()\n",
    "results = pool.get_results()\n",
    "\n",
    "results_df = dict_results_to_dataframe(results)"
   ]
  },
  {
   "cell_type": "code",
   "execution_count": null,
   "metadata": {},
   "outputs": [],
   "source": [
    "# pool.shuffle_classifiers()\n",
    "pool.filter_by_f1(0.3)\n",
    "print(\"Quantidade de classificadores: \", len(pool.classifiers))\n",
    "print(\"Maior f1 score no pool: \", max([f.f1 for f in pool.classifiers]))\n",
    "print(\"Maior acurácia score no pool: \", max([f.score for f in pool.classifiers]))\n",
    "lista_classificadores_filtrados = [c.name for c in pool.classifiers]\n",
    "pool.shuffle_classifiers()\n",
    "matrix = Matrix(\n",
    "    size=config[\"matrix\"][\"size\"],\n",
    "    pool=pool,\n",
    "    init_enery=config[\"init_energy\"],\n",
    "    distance_neighborhood=config[\"matrix\"][\"distance\"],\n",
    ")"
   ]
  },
  {
   "cell_type": "code",
   "execution_count": null,
   "metadata": {},
   "outputs": [],
   "source": []
  },
  {
   "cell_type": "code",
   "execution_count": null,
   "metadata": {},
   "outputs": [],
   "source": [
    "learning_algorithm(\n",
    "    matrix=matrix,\n",
    "    pool=pool,\n",
    "    sample_features=x_train_cca,\n",
    "    sample_class=y_train_cca,\n",
    "    distance=config[\"matrix\"][\"distance\"],\n",
    "    interactions=config[\"interactions\"],\n",
    "    init_energy=config[\"init_energy\"],\n",
    ")"
   ]
  },
  {
   "cell_type": "code",
   "execution_count": null,
   "metadata": {},
   "outputs": [],
   "source": [
    "# [[cell.get_classifier().name for cell in matrix.get()[i]] for i in range(8)]\n",
    "[[cell.get_energy() for cell in matrix.get()[i]] for i in range(4)]"
   ]
  },
  {
   "cell_type": "code",
   "execution_count": null,
   "metadata": {},
   "outputs": [],
   "source": [
    "matrix_class = matrix.predict_matrix(x_test)\n"
   ]
  },
  {
   "cell_type": "code",
   "execution_count": null,
   "metadata": {},
   "outputs": [],
   "source": [
    "print(classification_report(y_test, matrix_class, digits=3))\n",
    "# results_df_matrix\n",
    "# matrix_class_0 = count_items_from_predict(matrix_class, 0)/len(matrix_class)\n",
    "# matrix_class_1 = count_items_from_predict(matrix_class, 1)/len(matrix_class)\n",
    "print(\"Qtd módulos com defeito na base: \", count_items_from_predict(y_test, 1))\n",
    "print(\"Qtd módulos preditos: \", count_items_from_predict(matrix_class, 1))"
   ]
  },
  {
   "cell_type": "code",
   "execution_count": null,
   "metadata": {},
   "outputs": [],
   "source": [
    "matrix.get_results([\"recall\"])\n",
    "# [count_items_from_predict(p[\"prediction\"],1) for p in matrix.get_results([\"prediction\"])]"
   ]
  },
  {
   "cell_type": "code",
   "execution_count": null,
   "metadata": {},
   "outputs": [],
   "source": [
    "[c.get_results([\"recall\"]) for c in pool.get_classifiers()]"
   ]
  }
 ],
 "metadata": {
  "kernelspec": {
   "display_name": ".venv",
   "language": "python",
   "name": "python3"
  },
  "language_info": {
   "codemirror_mode": {
    "name": "ipython",
    "version": 3
   },
   "file_extension": ".py",
   "mimetype": "text/x-python",
   "name": "python",
   "nbconvert_exporter": "python",
   "pygments_lexer": "ipython3",
   "version": "3.10.0"
  },
  "orig_nbformat": 4,
  "vscode": {
   "interpreter": {
    "hash": "2baec5a152bfc2a843c462686de0e91e3b199ace1c0ebe3a4e2498b29226bd93"
   }
  }
 },
 "nbformat": 4,
 "nbformat_minor": 2
}
